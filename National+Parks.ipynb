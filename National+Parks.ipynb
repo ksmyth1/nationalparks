{
 "cells": [
  {
   "cell_type": "markdown",
   "metadata": {},
   "source": [
    "### Hypothesis: The size of Victorian National parks has a strong positive correlation with when they were declared\n",
    "\n",
    "Using park data for Victoria, Australia, I want to test the relationship between the size of a national park and the date it was first declared. \n",
    "\n",
    "My hypthoesis is that it's likely that there is a strong positive correlation as the largest natural areas would seem like the most obvious candidates to be declared as national parks early on, and smaller areas declared later as they are also recognized for their importance. "
   ]
  },
  {
   "cell_type": "code",
   "execution_count": 105,
   "metadata": {
    "collapsed": true
   },
   "outputs": [],
   "source": [
    "#import modules\n",
    "import pandas as pd\n",
    "import numpy as np\n",
    "import matplotlib.pyplot as plt"
   ]
  },
  {
   "cell_type": "code",
   "execution_count": 91,
   "metadata": {
    "collapsed": true
   },
   "outputs": [],
   "source": [
    "#import data\n",
    "parks2 = pd.read_csv('parks4.csv')"
   ]
  },
  {
   "cell_type": "code",
   "execution_count": 107,
   "metadata": {},
   "outputs": [
    {
     "data": {
      "text/html": [
       "<div>\n",
       "<style>\n",
       "    .dataframe thead tr:only-child th {\n",
       "        text-align: right;\n",
       "    }\n",
       "\n",
       "    .dataframe thead th {\n",
       "        text-align: left;\n",
       "    }\n",
       "\n",
       "    .dataframe tbody tr th {\n",
       "        vertical-align: top;\n",
       "    }\n",
       "</style>\n",
       "<table border=\"1\" class=\"dataframe\">\n",
       "  <thead>\n",
       "    <tr style=\"text-align: right;\">\n",
       "      <th></th>\n",
       "      <th>Name</th>\n",
       "      <th>TYPE ABBR</th>\n",
       "      <th>IUCN</th>\n",
       "      <th>Gazetted Area (ha)</th>\n",
       "      <th>Area (ha)</th>\n",
       "      <th>Declared</th>\n",
       "      <th>Latest Gazettal</th>\n",
       "      <th>Longitude</th>\n",
       "      <th>Latitude</th>\n",
       "      <th>IBRA Regions</th>\n",
       "    </tr>\n",
       "  </thead>\n",
       "  <tbody>\n",
       "    <tr>\n",
       "      <th>0</th>\n",
       "      <td>Bay of Islands Coastal Park</td>\n",
       "      <td>CP</td>\n",
       "      <td>III</td>\n",
       "      <td>935</td>\n",
       "      <td>935</td>\n",
       "      <td>35585</td>\n",
       "      <td>4/6/97</td>\n",
       "      <td>142.7114</td>\n",
       "      <td>-38.5140</td>\n",
       "      <td>SCP</td>\n",
       "    </tr>\n",
       "    <tr>\n",
       "      <th>1</th>\n",
       "      <td>Cape Conran Coastal Park</td>\n",
       "      <td>CP</td>\n",
       "      <td>II</td>\n",
       "      <td>11,576</td>\n",
       "      <td>11577</td>\n",
       "      <td>35585</td>\n",
       "      <td>4/6/97</td>\n",
       "      <td>148.8539</td>\n",
       "      <td>-37.7684</td>\n",
       "      <td>SEC</td>\n",
       "    </tr>\n",
       "    <tr>\n",
       "      <th>2</th>\n",
       "      <td>Cape Liptrap Coastal Park</td>\n",
       "      <td>CP</td>\n",
       "      <td>II</td>\n",
       "      <td>4,321</td>\n",
       "      <td>4318</td>\n",
       "      <td>35585</td>\n",
       "      <td>4/6/97</td>\n",
       "      <td>145.8700</td>\n",
       "      <td>-38.7709</td>\n",
       "      <td>SCP,SEH</td>\n",
       "    </tr>\n",
       "    <tr>\n",
       "      <th>3</th>\n",
       "      <td>Discovery Bay Coastal Park</td>\n",
       "      <td>CP</td>\n",
       "      <td>III</td>\n",
       "      <td>10,643</td>\n",
       "      <td>10641</td>\n",
       "      <td>28971</td>\n",
       "      <td>4/6/97</td>\n",
       "      <td>141.3021</td>\n",
       "      <td>-38.2148</td>\n",
       "      <td>NCP</td>\n",
       "    </tr>\n",
       "    <tr>\n",
       "      <th>4</th>\n",
       "      <td>Gadsen Bend Park</td>\n",
       "      <td>CP</td>\n",
       "      <td>II</td>\n",
       "      <td>1,622</td>\n",
       "      <td>1598</td>\n",
       "      <td>40356</td>\n",
       "      <td>1/7/11</td>\n",
       "      <td>142.7136</td>\n",
       "      <td>-34.6231</td>\n",
       "      <td>MDD,RIV</td>\n",
       "    </tr>\n",
       "  </tbody>\n",
       "</table>\n",
       "</div>"
      ],
      "text/plain": [
       "                          Name TYPE ABBR IUCN Gazetted Area (ha)  Area (ha)  \\\n",
       "0  Bay of Islands Coastal Park        CP  III                935        935   \n",
       "1     Cape Conran Coastal Park        CP   II             11,576      11577   \n",
       "2    Cape Liptrap Coastal Park        CP   II              4,321       4318   \n",
       "3   Discovery Bay Coastal Park        CP  III             10,643      10641   \n",
       "4             Gadsen Bend Park        CP   II              1,622       1598   \n",
       "\n",
       "   Declared Latest Gazettal  Longitude  Latitude IBRA Regions  \n",
       "0     35585          4/6/97   142.7114  -38.5140          SCP  \n",
       "1     35585          4/6/97   148.8539  -37.7684          SEC  \n",
       "2     35585          4/6/97   145.8700  -38.7709      SCP,SEH  \n",
       "3     28971          4/6/97   141.3021  -38.2148          NCP  \n",
       "4     40356          1/7/11   142.7136  -34.6231      MDD,RIV  "
      ]
     },
     "execution_count": 107,
     "metadata": {},
     "output_type": "execute_result"
    }
   ],
   "source": [
    "parks2.head()"
   ]
  },
  {
   "cell_type": "markdown",
   "metadata": {},
   "source": [
    "You'll see the above data includes all types of parks, not only national parks. Some filtering is required"
   ]
  },
  {
   "cell_type": "code",
   "execution_count": 110,
   "metadata": {},
   "outputs": [
    {
     "data": {
      "text/html": [
       "<div>\n",
       "<style>\n",
       "    .dataframe thead tr:only-child th {\n",
       "        text-align: right;\n",
       "    }\n",
       "\n",
       "    .dataframe thead th {\n",
       "        text-align: left;\n",
       "    }\n",
       "\n",
       "    .dataframe tbody tr th {\n",
       "        vertical-align: top;\n",
       "    }\n",
       "</style>\n",
       "<table border=\"1\" class=\"dataframe\">\n",
       "  <thead>\n",
       "    <tr style=\"text-align: right;\">\n",
       "      <th></th>\n",
       "      <th>Name</th>\n",
       "      <th>TYPE ABBR</th>\n",
       "      <th>IUCN</th>\n",
       "      <th>Gazetted Area (ha)</th>\n",
       "      <th>Area (ha)</th>\n",
       "      <th>Declared</th>\n",
       "      <th>Latest Gazettal</th>\n",
       "      <th>Longitude</th>\n",
       "      <th>Latitude</th>\n",
       "      <th>IBRA Regions</th>\n",
       "    </tr>\n",
       "  </thead>\n",
       "  <tbody>\n",
       "    <tr>\n",
       "      <th>90</th>\n",
       "      <td>Murray - Sunset National Park</td>\n",
       "      <td>NP</td>\n",
       "      <td>II</td>\n",
       "      <td>666,815</td>\n",
       "      <td>665541</td>\n",
       "      <td>28971</td>\n",
       "      <td>1/7/11</td>\n",
       "      <td>141.4794</td>\n",
       "      <td>-34.6845</td>\n",
       "      <td>MDD,RIV</td>\n",
       "    </tr>\n",
       "    <tr>\n",
       "      <th>59</th>\n",
       "      <td>Alpine National Park</td>\n",
       "      <td>NP</td>\n",
       "      <td>II</td>\n",
       "      <td>662,295</td>\n",
       "      <td>662305</td>\n",
       "      <td>28971</td>\n",
       "      <td>12/5/09</td>\n",
       "      <td>147.3367</td>\n",
       "      <td>-37.0317</td>\n",
       "      <td>AUA,SEC,SEH,VIM</td>\n",
       "    </tr>\n",
       "    <tr>\n",
       "      <th>99</th>\n",
       "      <td>Wyperfeld National Park</td>\n",
       "      <td>NP</td>\n",
       "      <td>II</td>\n",
       "      <td>359,966</td>\n",
       "      <td>359855</td>\n",
       "      <td>40106</td>\n",
       "      <td>4/6/97</td>\n",
       "      <td>141.7584</td>\n",
       "      <td>-35.5849</td>\n",
       "      <td>MDD</td>\n",
       "    </tr>\n",
       "    <tr>\n",
       "      <th>71</th>\n",
       "      <td>Grampians National Park</td>\n",
       "      <td>NP</td>\n",
       "      <td>II</td>\n",
       "      <td>168,241</td>\n",
       "      <td>168288</td>\n",
       "      <td>31034</td>\n",
       "      <td>8/11/01</td>\n",
       "      <td>142.4098</td>\n",
       "      <td>-37.2542</td>\n",
       "      <td>MDD,SVP,VIM</td>\n",
       "    </tr>\n",
       "    <tr>\n",
       "      <th>81</th>\n",
       "      <td>Little Desert National Park</td>\n",
       "      <td>NP</td>\n",
       "      <td>II</td>\n",
       "      <td>131,583</td>\n",
       "      <td>131600</td>\n",
       "      <td>25182</td>\n",
       "      <td>27/2/73</td>\n",
       "      <td>141.4914</td>\n",
       "      <td>-36.5572</td>\n",
       "      <td>MDD</td>\n",
       "    </tr>\n",
       "  </tbody>\n",
       "</table>\n",
       "</div>"
      ],
      "text/plain": [
       "                             Name TYPE ABBR IUCN Gazetted Area (ha)  \\\n",
       "90  Murray - Sunset National Park        NP   II            666,815   \n",
       "59           Alpine National Park        NP   II            662,295   \n",
       "99        Wyperfeld National Park        NP   II            359,966   \n",
       "71        Grampians National Park        NP   II            168,241   \n",
       "81    Little Desert National Park        NP   II            131,583   \n",
       "\n",
       "    Area (ha)  Declared Latest Gazettal  Longitude  Latitude     IBRA Regions  \n",
       "90     665541     28971          1/7/11   141.4794  -34.6845          MDD,RIV  \n",
       "59     662305     28971         12/5/09   147.3367  -37.0317  AUA,SEC,SEH,VIM  \n",
       "99     359855     40106          4/6/97   141.7584  -35.5849              MDD  \n",
       "71     168288     31034         8/11/01   142.4098  -37.2542      MDD,SVP,VIM  \n",
       "81     131600     25182         27/2/73   141.4914  -36.5572              MDD  "
      ]
     },
     "execution_count": 110,
     "metadata": {},
     "output_type": "execute_result"
    }
   ],
   "source": [
    "#filter for national parks and sort by area descending\n",
    "nationalparks = parks2[parks2['TYPE ABBR'] == 'NP']\n",
    "nationalparks.sort_values(by=['Area (ha)'],ascending = False).head()"
   ]
  },
  {
   "cell_type": "code",
   "execution_count": 115,
   "metadata": {},
   "outputs": [
    {
     "name": "stdout",
     "output_type": "stream",
     "text": [
      "The correlation between Area and the date the park was declared is:\n",
      "0.0868981288705\n"
     ]
    }
   ],
   "source": [
    "#compute correlation \n",
    "area = nationalparks['Area (ha)']\n",
    "declared = nationalparks['Declared']\n",
    "print(\"The correlation between Area and the date the park was declared is:\")\n",
    "print(np.corrcoef(area,declared)[0,1])"
   ]
  },
  {
   "cell_type": "markdown",
   "metadata": {},
   "source": [
    "This is a low correlation figure, indicating a weak positive relationship"
   ]
  },
  {
   "cell_type": "code",
   "execution_count": 128,
   "metadata": {},
   "outputs": [
    {
     "data": {
      "image/png": "[encoded data removed]",
      "text/plain": [
       "<matplotlib.figure.Figure at 0x10dd35d68>"
      ]
     },
     "metadata": {},
     "output_type": "display_data"
    }
   ],
   "source": [
    "#plot graph showing weak relationship\n",
    "_ = plt.scatter(declared, area)\n",
    "plt.show()"
   ]
  },
  {
   "cell_type": "markdown",
   "metadata": {},
   "source": [
    "The graph also indicates a weak relationship between the date declared and the size of the park. \n",
    "\n",
    "**In conclusion, there is no clear relationship between date declared and size for National Parks in Victoria"
   ]
  }
 ],
 "metadata": {
  "kernelspec": {
   "display_name": "Python 3",
   "language": "python",
   "name": "python3"
  },
  "language_info": {
   "codemirror_mode": {
    "name": "ipython",
    "version": 3
   },
   "file_extension": ".py",
   "mimetype": "text/x-python",
   "name": "python",
   "nbconvert_exporter": "python",
   "pygments_lexer": "ipython3",
   "version": "3.6.3"
  }
 },
 "nbformat": 4,
 "nbformat_minor": 2
}
